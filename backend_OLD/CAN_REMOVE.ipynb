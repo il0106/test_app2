{
 "cells": [
  {
   "cell_type": "code",
   "execution_count": 2,
   "metadata": {},
   "outputs": [
    {
     "name": "stdout",
     "output_type": "stream",
     "text": [
      "Таблицы в базе данных:\n",
      "users\n"
     ]
    }
   ],
   "source": [
    "import sqlite3\n",
    "\n",
    "conn = sqlite3.connect('data/sql_app.db')\n",
    "\n",
    "cursor = conn.cursor()\n",
    "\n",
    "# Получаем список таблиц\n",
    "cursor.execute(\"SELECT name FROM sqlite_master WHERE type='table';\")\n",
    "tables = cursor.fetchall()\n",
    "\n",
    "print(\"Таблицы в базе данных:\")\n",
    "for table in tables:\n",
    "    print(table[0])"
   ]
  },
  {
   "cell_type": "code",
   "execution_count": 3,
   "metadata": {},
   "outputs": [
    {
     "name": "stdout",
     "output_type": "stream",
     "text": [
      "                                      id             email  \\\n",
      "0   d548361c-9193-4548-aade-182b5d5fe212            a@b.ru   \n",
      "1   0c721af0-e602-4249-9873-5fecc2b15dde            i@b.ru   \n",
      "2   439a9c9c-6ab9-4330-8cd2-d22ea2dd6a11            n@b.ru   \n",
      "3   1cfd6d79-fe43-4692-bd21-384ab6e19768            y@i.ru   \n",
      "4   33eed2e3-ae76-4c1d-81c7-fe3ae1e6ea62            i@r.ru   \n",
      "5   eef0f751-6f52-46b0-825a-4eea63ec6b89    ilya@yandex.ru   \n",
      "6   52972496-4295-4e86-a020-d6fb8d904db3  user@example.com   \n",
      "7   56d54486-59ff-4212-8105-d747fcc9b092           a@tt.ru   \n",
      "8   9e42a845-93a2-49cc-a6ed-6bc58772a307           a@bb.ru   \n",
      "9   7255ba42-2bc5-4990-ab87-3e536a6c38ae            r@r.ru   \n",
      "10  946cbe59-ec4c-4219-8339-7efd1bb7f097            a@a.aa   \n",
      "11  5cb059bc-b8a6-4b6c-9c12-d38e219cd2be  test@example.com   \n",
      "\n",
      "                                      hashed_password  is_active  \\\n",
      "0   $argon2id$v=19$m=65536,t=3,p=4$OKmFkUkO3fn/Y5U...          1   \n",
      "1   $argon2id$v=19$m=65536,t=3,p=4$vsnpaEkg7vhHEyB...          1   \n",
      "2   $argon2id$v=19$m=65536,t=3,p=4$kW8q+1C4SuqxK6r...          1   \n",
      "3   $argon2id$v=19$m=65536,t=3,p=4$aQjg1DVTTWUQRm3...          1   \n",
      "4   $argon2id$v=19$m=65536,t=3,p=4$K0yvSABk6vOXIEi...          1   \n",
      "5   $argon2id$v=19$m=65536,t=3,p=4$3bG2oSjyg4CGShG...          1   \n",
      "6   $argon2id$v=19$m=65536,t=3,p=4$jOAtFVaOByWcuGb...          1   \n",
      "7   $argon2id$v=19$m=65536,t=3,p=4$IED/2u5//KBqQ+s...          1   \n",
      "8   $argon2id$v=19$m=65536,t=3,p=4$Js07dXPKCciy1FZ...          1   \n",
      "9   $argon2id$v=19$m=65536,t=3,p=4$8Q0SHzcor4T/nFs...          1   \n",
      "10  $argon2id$v=19$m=65536,t=3,p=4$4wH+n4f/F/TkWnV...          1   \n",
      "11  $argon2id$v=19$m=65536,t=3,p=4$CPxh+DJW6sVyWdL...          1   \n",
      "\n",
      "    is_superuser  is_verified  \n",
      "0              0            0  \n",
      "1              0            0  \n",
      "2              0            0  \n",
      "3              0            0  \n",
      "4              0            0  \n",
      "5              0            0  \n",
      "6              0            0  \n",
      "7              0            0  \n",
      "8              0            0  \n",
      "9              0            0  \n",
      "10             0            0  \n",
      "11             0            0  \n"
     ]
    }
   ],
   "source": [
    "# !pip install pandas\n",
    "import pandas as pd\n",
    "\n",
    "print(pd.read_sql(f\"select * from users\", conn))\n",
    "conn.close()"
   ]
  },
  {
   "cell_type": "code",
   "execution_count": null,
   "metadata": {},
   "outputs": [],
   "source": []
  }
 ],
 "metadata": {
  "kernelspec": {
   "display_name": "venv",
   "language": "python",
   "name": "python3"
  },
  "language_info": {
   "codemirror_mode": {
    "name": "ipython",
    "version": 3
   },
   "file_extension": ".py",
   "mimetype": "text/x-python",
   "name": "python",
   "nbconvert_exporter": "python",
   "pygments_lexer": "ipython3",
   "version": "3.12.3"
  }
 },
 "nbformat": 4,
 "nbformat_minor": 2
}
